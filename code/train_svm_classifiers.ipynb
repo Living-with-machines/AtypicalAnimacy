{
 "cells": [
  {
   "cell_type": "markdown",
   "metadata": {},
   "source": [
    "# Train SVMs"
   ]
  },
  {
   "cell_type": "code",
   "execution_count": null,
   "metadata": {},
   "outputs": [],
   "source": [
    "import pickle\n",
    "from gensim.models.wrappers import FastText\n",
    "from tools import processing,wemb_utils\n",
    "import spacy\n",
    "from sklearn.feature_extraction.text import TfidfVectorizer\n",
    "from sklearn import svm\n",
    "from sklearn.metrics import precision_recall_fscore_support, accuracy_score, f1_score\n",
    "from sklearn.model_selection import train_test_split\n",
    "import pandas as pd\n",
    "import pathlib\n",
    "import numpy as np\n",
    "\n",
    "nlp = spacy.load(\"en_core_web_sm\")\n",
    "wemb_model = FastText.load_fasttext_format('../models/language_models/fastai/cc.en.300.bin')"
   ]
  },
  {
   "cell_type": "code",
   "execution_count": null,
   "metadata": {},
   "outputs": [],
   "source": [
    "corpus = \"combined/\" # Options: \"combined/\" or \"stories/\""
   ]
  },
  {
   "cell_type": "code",
   "execution_count": null,
   "metadata": {},
   "outputs": [],
   "source": [
    "dataset_df = pd.read_pickle(\"../data/\" + corpus + \"train.pkl\")"
   ]
  },
  {
   "cell_type": "code",
   "execution_count": null,
   "metadata": {},
   "outputs": [],
   "source": [
    "def test_classifier(X,y,SVM):\n",
    "    X_train, X_test, y_train, y_test = train_test_split(X, y, test_size=0.3, random_state=42)\n",
    "    classifier = SVM.fit(X_train , y_train)\n",
    "    y_pred = classifier.predict(X_test)\n",
    "    \n",
    "    return f1_score(y_test, y_pred, labels=np.unique(y_pred))"
   ]
  },
  {
   "cell_type": "code",
   "execution_count": null,
   "metadata": {},
   "outputs": [],
   "source": [
    "def lemmatize(text):\n",
    "    doc = nlp(text)\n",
    "    lemmas = \" \".join([x.lemma_ for x in doc])\n",
    "    return lemmas"
   ]
  },
  {
   "cell_type": "code",
   "execution_count": null,
   "metadata": {},
   "outputs": [],
   "source": [
    "dFolders = {\"targetExpression\": \"../models/classifiers/\" + corpus + \"targetExpression/\",\n",
    "            \"context3wmasked\": \"../models/classifiers/\" + corpus + \"context3wmasked/\",\n",
    "            \"context3w\": \"../models/classifiers/\" + corpus + \"context3w/\"}\n",
    "\n",
    "for col in dFolders:\n",
    "\n",
    "    print(col, dataset_df.shape)\n",
    "    pathlib.Path(dFolders[col]).mkdir(parents=True, exist_ok=True)\n",
    "\n",
    "    X = dataset_df[col].tolist()\n",
    "    y = dataset_df[\"animated\"].tolist()\n",
    "    y = [int(y_val) for y_val in y]\n",
    "\n",
    "    # SVM:\n",
    "    SVM = svm.SVC(kernel = \"linear\", C=1, probability=True)\n",
    "\n",
    "    # TFIDF\n",
    "    vectorizer = TfidfVectorizer(min_df=1)\n",
    "    \n",
    "    X_lemma = [lemmatize(x) for x in X]\n",
    "    X_tfidf = vectorizer.fit_transform(X_lemma)\n",
    "\n",
    "    pickle.dump(vectorizer,open(dFolders[col] + \"tfidf.pkl\",\"wb\"))\n",
    "\n",
    "    print(test_classifier(X_tfidf,y,SVM))\n",
    "\n",
    "    classifier = SVM.fit(X_tfidf, y)\n",
    "    with open(dFolders[col] + \"tfidf_svm.pkl\", 'wb') as f:\n",
    "        pickle.dump(classifier, f)\n",
    "\n",
    "    # WEMB\n",
    "    X_emb = [wemb_utils.sent_embedding(x,wemb_model) for x in X]\n",
    "\n",
    "    print(test_classifier(X_emb,y,SVM))\n",
    "\n",
    "    classifier = SVM.fit(X_emb, y)\n",
    "    with open(dFolders[col] + \"wemb_svm.pkl\", 'wb') as f:\n",
    "        pickle.dump(classifier, f)\n",
    "    print()"
   ]
  },
  {
   "cell_type": "code",
   "execution_count": null,
   "metadata": {},
   "outputs": [],
   "source": []
  }
 ],
 "metadata": {
  "kernelspec": {
   "display_name": "Python [conda env:lwmbert] *",
   "language": "python",
   "name": "conda-env-lwmbert-py"
  },
  "language_info": {
   "codemirror_mode": {
    "name": "ipython",
    "version": 3
   },
   "file_extension": ".py",
   "mimetype": "text/x-python",
   "name": "python",
   "nbconvert_exporter": "python",
   "pygments_lexer": "ipython3",
   "version": "3.7.4"
  }
 },
 "nbformat": 4,
 "nbformat_minor": 2
}
