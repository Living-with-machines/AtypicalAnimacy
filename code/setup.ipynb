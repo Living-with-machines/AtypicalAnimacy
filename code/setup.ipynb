{
 "cells": [
  {
   "cell_type": "markdown",
   "metadata": {},
   "source": [
    "# Data and resources\n",
    "\n",
    "Run this notebook to download, unzip, and store all the data and resources necessary to run the experiments."
   ]
  },
  {
   "cell_type": "code",
   "execution_count": 1,
   "metadata": {},
   "outputs": [],
   "source": [
    "import wget\n",
    "import pathlib"
   ]
  },
  {
   "cell_type": "markdown",
   "metadata": {},
   "source": [
    "### _Stories_ dataset\n",
    "\n",
    "Obtain dataset from COLING 2018 paper:\n",
    "> Jahan, Labiba, Geeticka Chauhan, and Mark Finlayson. \"A new approach to animacy detection.\" In _Proceedings of the 27th International Conference on Computational Linguistics_, pp. 1-12. 2018.\n",
    "\n",
    "Download data from https://dspace.mit.edu/handle/1721.1/116172, unzip it, and store it in `../resources/`."
   ]
  },
  {
   "cell_type": "code",
   "execution_count": null,
   "metadata": {},
   "outputs": [],
   "source": [
    "url = \"https://dspace.mit.edu/bitstream/handle/1721.1/116172/jahan_animacy_v1.0.0.zip\"\n",
    "jahan = wget.download(url)"
   ]
  },
  {
   "cell_type": "code",
   "execution_count": null,
   "metadata": {},
   "outputs": [],
   "source": [
    "save_to = \"../resources\"\n",
    "pathlib.Path(save_to).mkdir(parents=True, exist_ok=True)"
   ]
  },
  {
   "cell_type": "code",
   "execution_count": null,
   "metadata": {},
   "outputs": [],
   "source": [
    "!mv {jahan} {save_to}"
   ]
  },
  {
   "cell_type": "code",
   "execution_count": null,
   "metadata": {},
   "outputs": [],
   "source": [
    "!unzip -q {save_to}/{jahan} -d {save_to}\n",
    "!ls {save_to}"
   ]
  },
  {
   "cell_type": "markdown",
   "metadata": {},
   "source": [
    "### _Machines19thC_ dataset"
   ]
  },
  {
   "cell_type": "code",
   "execution_count": null,
   "metadata": {},
   "outputs": [],
   "source": [
    "# TO DO"
   ]
  },
  {
   "cell_type": "markdown",
   "metadata": {},
   "source": [
    "### _BERT_ models"
   ]
  },
  {
   "cell_type": "markdown",
   "metadata": {},
   "source": [
    "#### 1. 19thC BERT models\n",
    "\n",
    "_[coming soon]_"
   ]
  },
  {
   "cell_type": "markdown",
   "metadata": {},
   "source": [
    "#### 2. Sentence Transformers BERT"
   ]
  },
  {
   "cell_type": "code",
   "execution_count": null,
   "metadata": {},
   "outputs": [],
   "source": [
    "url = \"https://public.ukp.informatik.tu-darmstadt.de/reimers/sentence-transformers/v0.2/bert-base-nli-mean-tokens.zip\"\n",
    "bert_senttrans = wget.download(url)\n",
    "save_to = \"../models/language_models/bert_models/\"\n",
    "pathlib.Path(save_to).mkdir(parents=True, exist_ok=True)\n",
    "pathlib.Path(save_to + \"bert-base-nli-mean-tokens\").mkdir(parents=True, exist_ok=True)\n",
    "!mv {bert_senttrans} {save_to}\n",
    "!unzip -q {save_to}/{bert_senttrans} -d {save_to}/bert-base-nli-mean-tokens\n",
    "!rm {save_to}/{bert_senttrans}\n",
    "!ls {save_to}"
   ]
  },
  {
   "cell_type": "markdown",
   "metadata": {},
   "source": [
    "#### 3. scikit-learn wrapper for BERT\n",
    "\n",
    "Source: https://github.com/charles9n/bert-sklearn"
   ]
  },
  {
   "cell_type": "code",
   "execution_count": 2,
   "metadata": {},
   "outputs": [
    {
     "name": "stdout",
     "output_type": "stream",
     "text": [
      "Cloning into '../models/language_models/bert_models/bert-sklearn'...\n",
      "remote: Enumerating objects: 12, done.\u001b[K\n",
      "remote: Counting objects: 100% (12/12), done.\u001b[K\n",
      "remote: Compressing objects: 100% (12/12), done.\u001b[K\n",
      "remote: Total 259 (delta 3), reused 3 (delta 0), pack-reused 247\u001b[K\n",
      "Receiving objects: 100% (259/259), 519.36 KiB | 1.42 MiB/s, done.\n",
      "Resolving deltas: 100% (125/125), done.\n",
      "Processing /Users/mcollardanuy/Documents/githubCode/AtypicalAnimacy/models/language_models/bert_models/bert-sklearn\n",
      "Requirement already satisfied: torch>=0.4.1 in /Users/mcollardanuy/anaconda3/envs/py37animacy/lib/python3.7/site-packages (from bert-sklearn==0.3.1) (1.4.0)\n",
      "Requirement already satisfied: scikit-learn in /Users/mcollardanuy/anaconda3/envs/lexexp/lib/python3.7/site-packages (from bert-sklearn==0.3.1) (0.22.1)\n",
      "Requirement already satisfied: numpy in /Users/mcollardanuy/anaconda3/envs/lexexp/lib/python3.7/site-packages (from bert-sklearn==0.3.1) (1.18.2)\n",
      "Requirement already satisfied: pandas in /Users/mcollardanuy/anaconda3/envs/lexexp/lib/python3.7/site-packages (from bert-sklearn==0.3.1) (0.24.2)\n",
      "Requirement already satisfied: boto3 in /Users/mcollardanuy/anaconda3/envs/lexexp/lib/python3.7/site-packages (from bert-sklearn==0.3.1) (1.9.234)\n",
      "Requirement already satisfied: requests in /Users/mcollardanuy/anaconda3/envs/lexexp/lib/python3.7/site-packages (from bert-sklearn==0.3.1) (2.22.0)\n",
      "Requirement already satisfied: tqdm in /Users/mcollardanuy/anaconda3/envs/lexexp/lib/python3.7/site-packages (from bert-sklearn==0.3.1) (4.32.1)\n",
      "Requirement already satisfied: scipy>=0.17.0 in /Users/mcollardanuy/anaconda3/envs/py37animacy/lib/python3.7/site-packages (from scikit-learn->bert-sklearn==0.3.1) (1.3.1)\n",
      "Requirement already satisfied: joblib>=0.11 in /Users/mcollardanuy/anaconda3/envs/lexexp/lib/python3.7/site-packages (from scikit-learn->bert-sklearn==0.3.1) (0.13.2)\n",
      "Requirement already satisfied: python-dateutil>=2.5.0 in /Users/mcollardanuy/.local/lib/python3.7/site-packages (from pandas->bert-sklearn==0.3.1) (2.8.0)\n",
      "Requirement already satisfied: pytz>=2011k in /Users/mcollardanuy/anaconda3/envs/lexexp/lib/python3.7/site-packages (from pandas->bert-sklearn==0.3.1) (2019.1)\n",
      "Requirement already satisfied: botocore<1.13.0,>=1.12.234 in /Users/mcollardanuy/anaconda3/envs/lexexp/lib/python3.7/site-packages (from boto3->bert-sklearn==0.3.1) (1.12.234)\n",
      "Requirement already satisfied: s3transfer<0.3.0,>=0.2.0 in /Users/mcollardanuy/anaconda3/envs/lexexp/lib/python3.7/site-packages (from boto3->bert-sklearn==0.3.1) (0.2.1)\n",
      "Requirement already satisfied: jmespath<1.0.0,>=0.7.1 in /Users/mcollardanuy/anaconda3/envs/lexexp/lib/python3.7/site-packages (from boto3->bert-sklearn==0.3.1) (0.9.4)\n",
      "Requirement already satisfied: chardet<3.1.0,>=3.0.2 in /Users/mcollardanuy/anaconda3/envs/lexexp/lib/python3.7/site-packages (from requests->bert-sklearn==0.3.1) (3.0.4)\n",
      "Requirement already satisfied: idna<2.9,>=2.5 in /Users/mcollardanuy/anaconda3/envs/lexexp/lib/python3.7/site-packages (from requests->bert-sklearn==0.3.1) (2.8)\n",
      "Requirement already satisfied: urllib3!=1.25.0,!=1.25.1,<1.26,>=1.21.1 in /Users/mcollardanuy/anaconda3/envs/lexexp/lib/python3.7/site-packages (from requests->bert-sklearn==0.3.1) (1.24.2)\n",
      "Requirement already satisfied: certifi>=2017.4.17 in /Users/mcollardanuy/anaconda3/envs/lexexp/lib/python3.7/site-packages (from requests->bert-sklearn==0.3.1) (2019.11.28)\n",
      "Requirement already satisfied: six>=1.5 in /Users/mcollardanuy/anaconda3/envs/lexexp/lib/python3.7/site-packages (from python-dateutil>=2.5.0->pandas->bert-sklearn==0.3.1) (1.15.0)\n",
      "Requirement already satisfied: docutils<0.16,>=0.10 in /Users/mcollardanuy/anaconda3/envs/lexexp/lib/python3.7/site-packages (from botocore<1.13.0,>=1.12.234->boto3->bert-sklearn==0.3.1) (0.14)\n",
      "Building wheels for collected packages: bert-sklearn\n",
      "  Building wheel for bert-sklearn (setup.py) ... \u001b[?25ldone\n",
      "\u001b[?25h  Created wheel for bert-sklearn: filename=bert_sklearn-0.3.1-py3-none-any.whl size=54234 sha256=7ca670f2d3cf0b28ac2d3f01c0f345ee31064420264a1b5267fc67a9ea999c63\n",
      "  Stored in directory: /Users/mcollardanuy/Library/Caches/pip/wheels/40/0b/29/e8f285d937984523cbfb153de2b95d7c5f2cd5bf37583aab6a\n",
      "Successfully built bert-sklearn\n",
      "Installing collected packages: bert-sklearn\n",
      "Successfully installed bert-sklearn-0.3.1\n"
     ]
    }
   ],
   "source": [
    "save_to = \"../models/language_models/bert_models/bert-sklearn/\"\n",
    "pathlib.Path(save_to).mkdir(parents=True, exist_ok=True)\n",
    "!git clone -b master https://github.com/charles9n/bert-sklearn {save_to}\n",
    "!pip install {save_to}"
   ]
  },
  {
   "cell_type": "markdown",
   "metadata": {},
   "source": [
    "### _fast.ai_ model"
   ]
  },
  {
   "cell_type": "code",
   "execution_count": null,
   "metadata": {},
   "outputs": [],
   "source": [
    "url = \"https://dl.fbaipublicfiles.com/fasttext/vectors-crawl/cc.en.300.bin.gz\"\n",
    "fastai_model = wget.download(url)\n",
    "save_to = \"../models/language_models/fastai/\"\n",
    "pathlib.Path(save_to).mkdir(parents=True, exist_ok=True)\n",
    "!mv {fastai_model} {save_to}\n",
    "!gunzip -q {save_to}/{fastai_model} -d {save_to}\n",
    "!ls {save_to}"
   ]
  },
  {
   "cell_type": "markdown",
   "metadata": {},
   "source": [
    "### _spaCy_ models"
   ]
  },
  {
   "cell_type": "code",
   "execution_count": null,
   "metadata": {},
   "outputs": [],
   "source": [
    "import spacy"
   ]
  },
  {
   "cell_type": "code",
   "execution_count": null,
   "metadata": {},
   "outputs": [],
   "source": [
    "!python -m spacy download en_core_web_sm\n",
    "!python -m spacy download en_core_web_lg"
   ]
  }
 ],
 "metadata": {
  "kernelspec": {
   "display_name": "Python (py37animacy)",
   "language": "python",
   "name": "py37animacy"
  },
  "language_info": {
   "codemirror_mode": {
    "name": "ipython",
    "version": 3
   },
   "file_extension": ".py",
   "mimetype": "text/x-python",
   "name": "python",
   "nbconvert_exporter": "python",
   "pygments_lexer": "ipython3",
   "version": "3.7.9"
  }
 },
 "nbformat": 4,
 "nbformat_minor": 2
}
