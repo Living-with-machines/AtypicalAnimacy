{
 "cells": [
  {
   "cell_type": "markdown",
   "metadata": {},
   "source": [
    "# Data and resources\n",
    "\n",
    "Run this notebook to download, unzip, and store all the data and resources necessary to run the experiments."
   ]
  },
  {
   "cell_type": "code",
   "execution_count": null,
   "metadata": {},
   "outputs": [],
   "source": [
    "import wget\n",
    "import pathlib"
   ]
  },
  {
   "cell_type": "markdown",
   "metadata": {},
   "source": [
    "### _Stories_ dataset\n",
    "\n",
    "Obtain dataset from COLING 2018 paper:\n",
    "> Jahan, Labiba, Geeticka Chauhan, and Mark Finlayson. \"A new approach to animacy detection.\" In _Proceedings of the 27th International Conference on Computational Linguistics_, pp. 1-12. 2018.\n",
    "\n",
    "Download data from https://dspace.mit.edu/handle/1721.1/116172, unzip it, and store it in `../resources/`."
   ]
  },
  {
   "cell_type": "code",
   "execution_count": null,
   "metadata": {},
   "outputs": [],
   "source": [
    "url = \"https://dspace.mit.edu/bitstream/handle/1721.1/116172/jahan_animacy_v1.0.0.zip\"\n",
    "jahan = wget.download(url)"
   ]
  },
  {
   "cell_type": "code",
   "execution_count": null,
   "metadata": {},
   "outputs": [],
   "source": [
    "save_to = \"../resources\"\n",
    "pathlib.Path(save_to).mkdir(parents=True, exist_ok=True)"
   ]
  },
  {
   "cell_type": "code",
   "execution_count": null,
   "metadata": {},
   "outputs": [],
   "source": [
    "!mv {jahan} {save_to}"
   ]
  },
  {
   "cell_type": "code",
   "execution_count": null,
   "metadata": {},
   "outputs": [],
   "source": [
    "!unzip -q {save_to}/{jahan} -d {save_to}\n",
    "!ls {save_to}"
   ]
  },
  {
   "cell_type": "markdown",
   "metadata": {},
   "source": [
    "### _Machines19thC_ dataset"
   ]
  },
  {
   "cell_type": "code",
   "execution_count": null,
   "metadata": {},
   "outputs": [],
   "source": [
    "# TO DO"
   ]
  },
  {
   "cell_type": "markdown",
   "metadata": {},
   "source": [
    "### _BERT_ models"
   ]
  },
  {
   "cell_type": "markdown",
   "metadata": {},
   "source": [
    "#### 1. 19thC BERT models\n",
    "\n",
    "_[coming soon]_"
   ]
  },
  {
   "cell_type": "markdown",
   "metadata": {},
   "source": [
    "#### 2. Sentence Transformers BERT"
   ]
  },
  {
   "cell_type": "code",
   "execution_count": null,
   "metadata": {},
   "outputs": [],
   "source": [
    "url = \"https://public.ukp.informatik.tu-darmstadt.de/reimers/sentence-transformers/v0.2/bert-base-nli-mean-tokens.zip\"\n",
    "bert_senttrans = wget.download(url)\n",
    "save_to = \"../models/language_models/bert_models/\"\n",
    "pathlib.Path(save_to).mkdir(parents=True, exist_ok=True)\n",
    "pathlib.Path(save_to + \"bert-base-nli-mean-tokens\").mkdir(parents=True, exist_ok=True)\n",
    "!mv {bert_senttrans} {save_to}\n",
    "!unzip -q {save_to}/{bert_senttrans} -d {save_to}/bert-base-nli-mean-tokens\n",
    "!rm {save_to}/{bert_senttrans}\n",
    "!ls {save_to}"
   ]
  },
  {
   "cell_type": "markdown",
   "metadata": {},
   "source": [
    "#### 3. scikit-learn wrapper for BERT\n",
    "\n",
    "Source: https://github.com/charles9n/bert-sklearn"
   ]
  },
  {
   "cell_type": "code",
   "execution_count": null,
   "metadata": {},
   "outputs": [],
   "source": [
    "save_to = \"../models/language_models/bert_models/bert-sklearn/\"\n",
    "pathlib.Path(save_to).mkdir(parents=True, exist_ok=True)\n",
    "!git clone -b master https://github.com/charles9n/bert-sklearn {save_to}\n",
    "!pip install {save_to}"
   ]
  },
  {
   "cell_type": "markdown",
   "metadata": {},
   "source": [
    "### _fast.ai_ model"
   ]
  },
  {
   "cell_type": "code",
   "execution_count": null,
   "metadata": {},
   "outputs": [],
   "source": [
    "url = \"https://dl.fbaipublicfiles.com/fasttext/vectors-crawl/cc.en.300.bin.gz\"\n",
    "fastai_model = wget.download(url)\n",
    "save_to = \"../models/language_models/fastai/\"\n",
    "pathlib.Path(save_to).mkdir(parents=True, exist_ok=True)\n",
    "!mv {fastai_model} {save_to}\n",
    "!gunzip -q {save_to}/{fastai_model} -d {save_to}\n",
    "!ls {save_to}"
   ]
  },
  {
   "cell_type": "markdown",
   "metadata": {},
   "source": [
    "### _spaCy_ models"
   ]
  },
  {
   "cell_type": "code",
   "execution_count": null,
   "metadata": {},
   "outputs": [],
   "source": [
    "import spacy"
   ]
  },
  {
   "cell_type": "code",
   "execution_count": null,
   "metadata": {},
   "outputs": [],
   "source": [
    "!python -m spacy download en_core_web_sm\n",
    "!python -m spacy download en_core_web_lg"
   ]
  }
 ],
 "metadata": {
  "kernelspec": {
   "display_name": "Python (py37animacy)",
   "language": "python",
   "name": "py37animacy"
  },
  "language_info": {
   "codemirror_mode": {
    "name": "ipython",
    "version": 3
   },
   "file_extension": ".py",
   "mimetype": "text/x-python",
   "name": "python",
   "nbconvert_exporter": "python",
   "pygments_lexer": "ipython3",
   "version": "3.7.9"
  }
 },
 "nbformat": 4,
 "nbformat_minor": 2
}
