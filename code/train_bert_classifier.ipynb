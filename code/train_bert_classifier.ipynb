{
 "cells": [
  {
   "cell_type": "markdown",
   "metadata": {},
   "source": [
    "# Train a BERT classifier\n",
    "\n",
    "**TO DO:** To use it: https://github.com/charles9n/bert-sklearn"
   ]
  },
  {
   "cell_type": "code",
   "execution_count": null,
   "metadata": {},
   "outputs": [],
   "source": [
    "import pickle\n",
    "from bert_sklearn import BertClassifier\n",
    "from bert_sklearn import load_model\n",
    "import pandas as pd\n",
    "import pathlib\n",
    "from tools import processing\n",
    "\n",
    "import spacy\n",
    "\n",
    "nlp = spacy.load(\"en_core_web_sm\")\n",
    "\n",
    "model = BertClassifier()    "
   ]
  },
  {
   "cell_type": "markdown",
   "metadata": {},
   "source": [
    "#### Load data"
   ]
  },
  {
   "cell_type": "code",
   "execution_count": null,
   "metadata": {},
   "outputs": [],
   "source": [
    "corpus = \"stories/\"\n",
    "dataset_df = pd.read_pickle(\"../data/\" + corpus + \"train.pkl\")"
   ]
  },
  {
   "cell_type": "code",
   "execution_count": null,
   "metadata": {},
   "outputs": [],
   "source": [
    "dataset_df.columns"
   ]
  },
  {
   "cell_type": "markdown",
   "metadata": {},
   "source": [
    "#### Train BERT classifiers"
   ]
  },
  {
   "cell_type": "code",
   "execution_count": null,
   "metadata": {
    "scrolled": true
   },
   "outputs": [],
   "source": [
    "dFolders = {\"targetExpression\": \"../models/classifiers/\" + corpus + \"targetExpression/\",\n",
    "            \"context3wmasked\": \"../models/classifiers/\" + corpus + \"context3wmasked/\",\n",
    "            \"context3w\": \"../models/classifiers/\" + corpus + \"context3w/\"}\n",
    "\n",
    "for col in dFolders:\n",
    "    \n",
    "    if not pathlib.Path(dFolders[col] + \"/bert.bin\").exists():\n",
    "        pathlib.Path(dFolders[col]).mkdir(parents=True, exist_ok=True)\n",
    "\n",
    "        X = dataset_df[col].tolist()\n",
    "        y = dataset_df[\"animated\"].tolist()\n",
    "\n",
    "        print (len(X), len(y))\n",
    "\n",
    "        from sklearn.model_selection import train_test_split\n",
    "        X_train, X_test, y_train, y_test = train_test_split(X, y, test_size=0.3, random_state=42)\n",
    "\n",
    "        # finetune model\n",
    "        model.fit(X_train, y_train)\n",
    "\n",
    "        # make predictions\n",
    "        y_pred = model.predict(X_test)\n",
    "\n",
    "        from sklearn.metrics import precision_recall_fscore_support\n",
    "\n",
    "        precision_recall_fscore_support(y_pred, y_test, average='macro')\n",
    "\n",
    "        # save model to disk\n",
    "        savefile= dFolders[col] + \"/bert.bin\"\n",
    "        model.save(savefile)\n",
    "        print(\"DONE\")\n",
    "        print()"
   ]
  },
  {
   "cell_type": "code",
   "execution_count": null,
   "metadata": {},
   "outputs": [],
   "source": []
  }
 ],
 "metadata": {
  "kernelspec": {
   "display_name": "Python [conda env:lwmbert] *",
   "language": "python",
   "name": "conda-env-lwmbert-py"
  },
  "language_info": {
   "codemirror_mode": {
    "name": "ipython",
    "version": 3
   },
   "file_extension": ".py",
   "mimetype": "text/x-python",
   "name": "python",
   "nbconvert_exporter": "python",
   "pygments_lexer": "ipython3",
   "version": "3.7.4"
  }
 },
 "nbformat": 4,
 "nbformat_minor": 4
}
