{
 "cells": [
  {
   "cell_type": "code",
   "execution_count": 1,
   "metadata": {},
   "outputs": [],
   "source": [
    "# To use it:\n",
    "# https://github.com/charles9n/bert-sklearn"
   ]
  },
  {
   "cell_type": "code",
   "execution_count": 2,
   "metadata": {},
   "outputs": [
    {
     "name": "stdout",
     "output_type": "stream",
     "text": [
      "Building sklearn text classifier...\n"
     ]
    }
   ],
   "source": [
    "import pickle\n",
    "from bert_sklearn import BertClassifier\n",
    "from bert_sklearn import load_model\n",
    "import pandas as pd\n",
    "import pathlib\n",
    "from tools import processing\n",
    "\n",
    "import spacy\n",
    "\n",
    "nlp = spacy.load(\"en_core_web_sm\")\n",
    "\n",
    "model = BertClassifier()    "
   ]
  },
  {
   "cell_type": "markdown",
   "metadata": {},
   "source": [
    "#### Load data"
   ]
  },
  {
   "cell_type": "code",
   "execution_count": 3,
   "metadata": {},
   "outputs": [],
   "source": [
    "corpus = \"stories/\"\n",
    "dataset_df = pd.read_pickle(\"../data/\" + corpus + \"train.pkl\")\n",
    "dataset_df['both_masked'] = dataset_df.apply(lambda row: processing.determine_context(\"maskedSentWithDet\", row, \"both\"), axis=1)\n",
    "dataset_df['both_unmasked'] = dataset_df.apply(lambda row: processing.determine_context(\"currentSentence\", row, \"both\"), axis=1)"
   ]
  },
  {
   "cell_type": "markdown",
   "metadata": {},
   "source": [
    "#### Train BERT classifiers"
   ]
  },
  {
   "cell_type": "code",
   "execution_count": 4,
   "metadata": {
    "scrolled": true
   },
   "outputs": [
    {
     "name": "stdout",
     "output_type": "stream",
     "text": [
      "targetWithoutDet\n",
      "8457 8457\n",
      "Loading bert-base-uncased model...\n",
      "Defaulting to linear classifier/regressor\n",
      "Loading Pytorch checkpoint\n",
      "train data size: 5328, validation data size: 591\n"
     ]
    },
    {
     "name": "stderr",
     "output_type": "stream",
     "text": [
      "Training  : 100%|██████████| 167/167 [1:16:20<00:00, 24.03s/it, loss=0.34] \n",
      "Validating: 100%|██████████| 74/74 [02:19<00:00,  1.87s/it]"
     ]
    },
    {
     "name": "stdout",
     "output_type": "stream",
     "text": [
      "Epoch 1, Train loss: 0.3402, Val loss: 0.2074, Val accy: 93.23%\n"
     ]
    },
    {
     "name": "stderr",
     "output_type": "stream",
     "text": [
      "\n",
      "Training  : 100%|██████████| 167/167 [1:08:30<00:00, 24.71s/it, loss=0.158]\n",
      "Validating: 100%|██████████| 74/74 [02:20<00:00,  1.81s/it]"
     ]
    },
    {
     "name": "stdout",
     "output_type": "stream",
     "text": [
      "Epoch 2, Train loss: 0.1583, Val loss: 0.1821, Val accy: 94.08%\n"
     ]
    },
    {
     "name": "stderr",
     "output_type": "stream",
     "text": [
      "\n",
      "Training  : 100%|██████████| 167/167 [1:23:03<00:00, 31.09s/it, loss=0.117]\n",
      "Validating: 100%|██████████| 74/74 [02:27<00:00,  1.91s/it]"
     ]
    },
    {
     "name": "stdout",
     "output_type": "stream",
     "text": [
      "Epoch 3, Train loss: 0.1174, Val loss: 0.1812, Val accy: 94.08%\n"
     ]
    },
    {
     "name": "stderr",
     "output_type": "stream",
     "text": [
      "\n",
      "Predicting: 100%|██████████| 318/318 [10:19<00:00,  1.53s/it]\n"
     ]
    },
    {
     "name": "stdout",
     "output_type": "stream",
     "text": [
      "DONE\n",
      "\n",
      "context3wmasked\n",
      "8457 8457\n",
      "Loading bert-base-uncased model...\n",
      "Defaulting to linear classifier/regressor\n",
      "Loading Pytorch checkpoint\n",
      "train data size: 5328, validation data size: 591\n"
     ]
    },
    {
     "name": "stderr",
     "output_type": "stream",
     "text": [
      "Training  : 100%|██████████| 167/167 [1:14:43<00:00, 23.98s/it, loss=0.538]\n",
      "Validating: 100%|██████████| 74/74 [02:20<00:00,  1.96s/it]"
     ]
    },
    {
     "name": "stdout",
     "output_type": "stream",
     "text": [
      "Epoch 1, Train loss: 0.5382, Val loss: 0.4338, Val accy: 81.56%\n"
     ]
    },
    {
     "name": "stderr",
     "output_type": "stream",
     "text": [
      "\n",
      "Training  : 100%|██████████| 167/167 [1:14:41<00:00, 19.51s/it, loss=0.293]\n",
      "Validating: 100%|██████████| 74/74 [01:52<00:00,  1.44s/it]"
     ]
    },
    {
     "name": "stdout",
     "output_type": "stream",
     "text": [
      "Epoch 2, Train loss: 0.2929, Val loss: 0.4820, Val accy: 79.70%\n"
     ]
    },
    {
     "name": "stderr",
     "output_type": "stream",
     "text": [
      "\n",
      "Training  : 100%|██████████| 167/167 [1:07:40<00:00, 20.90s/it, loss=0.151]\n",
      "Validating: 100%|██████████| 74/74 [01:58<00:00,  1.50s/it]"
     ]
    },
    {
     "name": "stdout",
     "output_type": "stream",
     "text": [
      "Epoch 3, Train loss: 0.1509, Val loss: 0.5646, Val accy: 80.54%\n"
     ]
    },
    {
     "name": "stderr",
     "output_type": "stream",
     "text": [
      "\n",
      "Predicting: 100%|██████████| 318/318 [08:55<00:00,  1.24s/it]\n"
     ]
    },
    {
     "name": "stdout",
     "output_type": "stream",
     "text": [
      "DONE\n",
      "\n",
      "context3w\n",
      "8457 8457\n",
      "Loading bert-base-uncased model...\n",
      "Defaulting to linear classifier/regressor\n",
      "Loading Pytorch checkpoint\n",
      "train data size: 5328, validation data size: 591\n"
     ]
    },
    {
     "name": "stderr",
     "output_type": "stream",
     "text": [
      "Training  : 100%|██████████| 167/167 [1:11:31<00:00, 21.11s/it, loss=0.412]\n",
      "Validating: 100%|██████████| 74/74 [02:01<00:00,  1.54s/it]"
     ]
    },
    {
     "name": "stdout",
     "output_type": "stream",
     "text": [
      "Epoch 1, Train loss: 0.4116, Val loss: 0.2770, Val accy: 90.19%\n"
     ]
    },
    {
     "name": "stderr",
     "output_type": "stream",
     "text": [
      "\n",
      "Training  : 100%|██████████| 167/167 [1:04:52<00:00, 17.04s/it, loss=0.188]\n",
      "Validating: 100%|██████████| 74/74 [01:35<00:00,  1.25s/it]"
     ]
    },
    {
     "name": "stdout",
     "output_type": "stream",
     "text": [
      "Epoch 2, Train loss: 0.1878, Val loss: 0.2363, Val accy: 91.37%\n"
     ]
    },
    {
     "name": "stderr",
     "output_type": "stream",
     "text": [
      "\n",
      "Training  : 100%|██████████| 167/167 [54:57<00:00, 16.45s/it, loss=0.117]\n",
      "Validating: 100%|██████████| 74/74 [01:34<00:00,  1.19s/it]"
     ]
    },
    {
     "name": "stdout",
     "output_type": "stream",
     "text": [
      "Epoch 3, Train loss: 0.1172, Val loss: 0.2457, Val accy: 91.71%\n"
     ]
    },
    {
     "name": "stderr",
     "output_type": "stream",
     "text": [
      "\n",
      "Predicting: 100%|██████████| 318/318 [06:39<00:00,  1.01s/it]\n"
     ]
    },
    {
     "name": "stdout",
     "output_type": "stream",
     "text": [
      "DONE\n",
      "\n"
     ]
    }
   ],
   "source": [
    "dFolders = {\"targetWithoutDet\": \"../models/classifiers/\" + corpus + \"targetWithoutDet_without_prp/\",\n",
    "            \"context3wmasked\": \"../models/classifiers/\" + corpus + \"context3wmasked_without_prp/\",\n",
    "            \"context3w\": \"../models/classifiers/\" + corpus + \"context3w_without_prp/\"}\n",
    "# ,\n",
    "#             \"both_masked\": \"../models/classifiers/\" + corpus + \"both_masked_with_prp/\",\n",
    "#             \"both_unmasked\": \"../models/classifiers/\" + corpus + \"both_unmasked_with_prp/\",\n",
    "#             \"currentSentence\": \"../models/classifiers/\" + corpus + \"currentSentence_with_prp/\",\n",
    "#             \"maskedSentence\": \"../models/classifiers/\" + corpus + \"maskedSentence_with_prp/\"}\n",
    "\n",
    "for col in [\"targetWithoutDet\", \"context3wmasked\", \"context3w\"]: #, \"both_masked\", \"both_unmasked\", \"currentSentence\", \"maskedSentWithDet\"]:\n",
    "    dataset_df = dataset_df[dataset_df[\"targetIsPRP\"] == False]\n",
    "    print(col)\n",
    "    if not pathlib.Path(dFolders[col] + \"/bert.bin\").exists():\n",
    "        pathlib.Path(dFolders[col]).mkdir(parents=True, exist_ok=True)\n",
    "\n",
    "        X = dataset_df[col].tolist()\n",
    "        y = dataset_df[\"animated\"].tolist()\n",
    "\n",
    "        print (len(X),len(y))\n",
    "\n",
    "        from sklearn.model_selection import train_test_split\n",
    "        X_train, X_test, y_train, y_test = train_test_split(X, y, test_size=0.3, random_state=42)\n",
    "\n",
    "        # finetune model\n",
    "        model.fit(X_train, y_train)\n",
    "\n",
    "        # make predictions\n",
    "        y_pred = model.predict(X_test)\n",
    "\n",
    "        from sklearn.metrics import precision_recall_fscore_support\n",
    "\n",
    "        precision_recall_fscore_support(y_pred, y_test, average='macro')\n",
    "\n",
    "        # save model to disk\n",
    "        savefile= dFolders[col] + \"/bert.bin\"\n",
    "        model.save(savefile)\n",
    "        print(\"DONE\")\n",
    "        print()"
   ]
  },
  {
   "cell_type": "code",
   "execution_count": null,
   "metadata": {},
   "outputs": [],
   "source": []
  }
 ],
 "metadata": {
  "kernelspec": {
   "display_name": "Python [conda env:lwmbert] *",
   "language": "python",
   "name": "conda-env-lwmbert-py"
  },
  "language_info": {
   "codemirror_mode": {
    "name": "ipython",
    "version": 3
   },
   "file_extension": ".py",
   "mimetype": "text/x-python",
   "name": "python",
   "nbconvert_exporter": "python",
   "pygments_lexer": "ipython3",
   "version": "3.7.4"
  }
 },
 "nbformat": 4,
 "nbformat_minor": 4
}
