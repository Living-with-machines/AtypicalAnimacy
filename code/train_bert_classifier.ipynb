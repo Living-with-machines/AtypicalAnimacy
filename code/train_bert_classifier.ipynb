{
 "cells": [
  {
   "cell_type": "markdown",
   "metadata": {},
   "source": [
    "## Code for training a BERT classifier\n",
    "\n",
    "This notebook contains the code used to train the BERT classifiers used in Table 5 of the Living Machines paper (COLING 2020).\n",
    "\n",
    "The user can specify two training sets (in variable `corpus`, under `Load data`):\n",
    "* `stories/` to train the classifier used for the _Stories_ dataset, or\n",
    "* `combined_animacy/` to train the classifier used for the _19thC Machines_ animacy dataset).\n",
    "* `combined_humanness/` to train the classifier used for the _19thC Machines_ humanness dataset).\n",
    "\n",
    "Three classifiers will be trained:\n",
    "* **targetExpression:** using the target expression alone as input (_targetExp_ in Table 5).\n",
    "* **context3w:** using the target expression plus 3 tokens to the left and right (_targetExp + ctxt_ in Table 5).\n",
    "* **context3wmasked:** using the masked target expression plus 3 tokens to the left and right (_targetExp + ctxt_ in Table 5)."
   ]
  },
  {
   "cell_type": "code",
   "execution_count": null,
   "metadata": {},
   "outputs": [],
   "source": [
    "import pickle\n",
    "from bert_sklearn import BertClassifier\n",
    "from bert_sklearn import load_model\n",
    "import pandas as pd\n",
    "import pathlib\n",
    "from tools import processing"
   ]
  },
  {
   "cell_type": "markdown",
   "metadata": {},
   "source": [
    "#### Load data"
   ]
  },
  {
   "cell_type": "code",
   "execution_count": null,
   "metadata": {},
   "outputs": [],
   "source": [
    "corpus = \"stories/\" # Options: \"combined_animacy/\" or \"stories/\"\n",
    "dataset_df = pd.read_pickle(\"../data/\" + corpus + \"train.pkl\")"
   ]
  },
  {
   "cell_type": "markdown",
   "metadata": {},
   "source": [
    "#### Train BERT classifiers"
   ]
  },
  {
   "cell_type": "code",
   "execution_count": null,
   "metadata": {
    "scrolled": true
   },
   "outputs": [],
   "source": [
    "dFolders = {\"targetExpression\": \"../models/classifiers/\" + corpus + \"targetExpression/\",\n",
    "            \"context3wmasked\": \"../models/classifiers/\" + corpus + \"context3wmasked/\",\n",
    "            \"context3w\": \"../models/classifiers/\" + corpus + \"context3w/\"}\n",
    "\n",
    "for col in dFolders:\n",
    "    \n",
    "    model = BertClassifier()\n",
    "    \n",
    "    pathlib.Path(dFolders[col]).mkdir(parents=True, exist_ok=True)\n",
    "\n",
    "    X = dataset_df[col].tolist()\n",
    "    y = dataset_df[\"animated\"].tolist()\n",
    "\n",
    "    model.fit(X, y)\n",
    "\n",
    "    # save model to disk\n",
    "    savefile= dFolders[col] + \"/bert.bin\"\n",
    "    model.save(savefile)\n",
    "    print(\"DONE\")\n",
    "    print()"
   ]
  }
 ],
 "metadata": {
  "kernelspec": {
   "display_name": "Python (py37animacy)",
   "language": "python",
   "name": "py37animacy"
  },
  "language_info": {
   "codemirror_mode": {
    "name": "ipython",
    "version": 3
   },
   "file_extension": ".py",
   "mimetype": "text/x-python",
   "name": "python",
   "nbconvert_exporter": "python",
   "pygments_lexer": "ipython3",
   "version": "3.7.9"
  }
 },
 "nbformat": 4,
 "nbformat_minor": 4
}
